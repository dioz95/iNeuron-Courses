{
 "cells": [
  {
   "cell_type": "markdown",
   "metadata": {},
   "source": [
    "### 1. Write a function so that the columns of the output matrix are powers of the input vector.\n",
    "\n",
    "The order of the powers is determined by the increasing boolean argument. Specifically, when increasing is `False`, the `i-th` output column is the input vector raised element-wise to the power of `N - i - 1`.\n",
    "\n",
    "HINT: Such a matrix with a geometric progression in each row is named for *Alexandre-Theophile Vandermonde*."
   ]
  },
  {
   "cell_type": "code",
   "execution_count": 1,
   "metadata": {},
   "outputs": [],
   "source": [
    "import numpy as np"
   ]
  },
  {
   "cell_type": "code",
   "execution_count": 2,
   "metadata": {},
   "outputs": [],
   "source": [
    "def create_vander_matrix(input_vector, N, is_increasing = False):\n",
    "    if is_increasing == False:\n",
    "        vander = []\n",
    "        \n",
    "        for x in input_vector:\n",
    "            for i in range(N):\n",
    "                u = x ** (N - i - 1)\n",
    "                vander = np.append(vander, u)\n",
    "                \n",
    "        return vander.reshape(input_vector.size, N)\n",
    "    else:\n",
    "        vander = []\n",
    "        \n",
    "        for x in input_vector:\n",
    "            for i in range(N):\n",
    "                u = x ** i\n",
    "                vander = np.append(vander, u)\n",
    "                \n",
    "        return vander.reshape(input_vector.size, N)"
   ]
  },
  {
   "cell_type": "code",
   "execution_count": 3,
   "metadata": {},
   "outputs": [
    {
     "data": {
      "text/plain": [
       "array([[ 1.,  1.,  1.],\n",
       "       [ 4.,  2.,  1.],\n",
       "       [ 9.,  3.,  1.],\n",
       "       [25.,  5.,  1.]])"
      ]
     },
     "execution_count": 3,
     "metadata": {},
     "output_type": "execute_result"
    }
   ],
   "source": [
    "input_vector = np.array([1, 2, 3, 5])\n",
    "N = 3\n",
    "\n",
    "# is_increasing = False\n",
    "create_vander_matrix(input_vector, N)"
   ]
  },
  {
   "cell_type": "code",
   "execution_count": 4,
   "metadata": {
    "scrolled": true
   },
   "outputs": [
    {
     "data": {
      "text/plain": [
       "array([[ 1.,  1.,  1.],\n",
       "       [ 1.,  2.,  4.],\n",
       "       [ 1.,  3.,  9.],\n",
       "       [ 1.,  5., 25.]])"
      ]
     },
     "execution_count": 4,
     "metadata": {},
     "output_type": "execute_result"
    }
   ],
   "source": [
    "# is_increasing = True\n",
    "create_vander_matrix(input_vector, N, is_increasing = True)"
   ]
  },
  {
   "cell_type": "code",
   "execution_count": 5,
   "metadata": {},
   "outputs": [
    {
     "data": {
      "text/plain": [
       "array([[ 1.,  1.,  1.,  1.],\n",
       "       [ 8.,  4.,  2.,  1.],\n",
       "       [27.,  9.,  3.,  1.]])"
      ]
     },
     "execution_count": 5,
     "metadata": {},
     "output_type": "execute_result"
    }
   ],
   "source": [
    "input_vector = np.array([1, 2, 3])\n",
    "N = 4\n",
    "\n",
    "# is_increasing = False\n",
    "create_vander_matrix(input_vector, N)"
   ]
  },
  {
   "cell_type": "code",
   "execution_count": 6,
   "metadata": {},
   "outputs": [
    {
     "data": {
      "text/plain": [
       "array([[ 1.,  1.,  1.,  1.],\n",
       "       [ 1.,  2.,  4.,  8.],\n",
       "       [ 1.,  3.,  9., 27.]])"
      ]
     },
     "execution_count": 6,
     "metadata": {},
     "output_type": "execute_result"
    }
   ],
   "source": [
    "# is_increasing = True\n",
    "create_vander_matrix(input_vector, N, is_increasing = True)"
   ]
  },
  {
   "cell_type": "markdown",
   "metadata": {},
   "source": [
    "### Moving average\n",
    "\n",
    "Given a sequence of `n` values `x1, x2, ..., xn` and a window size `k > 0`, the `k-th` moving average of the given sequence is defined as follows:\n",
    "\n",
    "The moving average sequence has `n - k + 1` elements as shown below.\n",
    "\n",
    "The moving averages with `k = 4` of a ten-value sequence `(n = 10)` is shown below\n",
    "```\n",
    "i     1  2  3  4  5  6  7  8  9  10\n",
    "===== == == == == == == == == == ==\n",
    "Input 10 20 30 40 50 60 70 80 90 100\n",
    "\n",
    "y1 25 = (10+20+30+40)/4\n",
    "y2 35 = (20+30+40+50)/4\n",
    "y3 45 = (30+40+50+60)/4\n",
    "y4 55 = (40+50+60+70)/4\n",
    "y5 65 = (50+60+70+80)/4\n",
    "y6 75 = (60+70+80+90)/4\n",
    "y7 85 = (70+80+90+100)/4\n",
    "```\n",
    "Thus, the moving average sequence has `n - k + 1 = 10 - 4 + 1 = 7` values.\n",
    "\n",
    "**Question**: Write a function to find moving average in an array over a window:\n",
    "Test it over `[3, 5, 7, 2, 8, 10, 11, 65, 72, 81, 99, 100, 150]` and window of `3`."
   ]
  },
  {
   "cell_type": "code",
   "execution_count": 7,
   "metadata": {},
   "outputs": [],
   "source": [
    "def create_moving_avg(array, k):\n",
    "    ith = 0\n",
    "    divisor = k\n",
    "    \n",
    "    moving_avg = []\n",
    "\n",
    "    for n_values in range(len(seq) - k + 1):\n",
    "        values = sum(seq[ith:k])/divisor\n",
    "        moving_avg = np.append(moving_avg, values)\n",
    "\n",
    "        ith += 1\n",
    "        k += 1\n",
    "        \n",
    "    return moving_avg"
   ]
  },
  {
   "cell_type": "code",
   "execution_count": 8,
   "metadata": {},
   "outputs": [
    {
     "data": {
      "text/plain": [
       "array([25., 35., 45., 55., 65., 75., 85.])"
      ]
     },
     "execution_count": 8,
     "metadata": {},
     "output_type": "execute_result"
    }
   ],
   "source": [
    "seq = np.array([10, 20, 30, 40, 50, 60, 70, 80, 90, 100])\n",
    "k = 4\n",
    "\n",
    "create_moving_avg(seq, k)"
   ]
  },
  {
   "cell_type": "code",
   "execution_count": 9,
   "metadata": {},
   "outputs": [
    {
     "data": {
      "text/plain": [
       "array([  5.        ,   4.66666667,   5.66666667,   6.66666667,\n",
       "         9.66666667,  28.66666667,  49.33333333,  72.66666667,\n",
       "        84.        ,  93.33333333, 116.33333333])"
      ]
     },
     "execution_count": 9,
     "metadata": {},
     "output_type": "execute_result"
    }
   ],
   "source": [
    "seq = np.array([3, 5, 7, 2, 8, 10, 11, 65, 72, 81, 99, 100, 150])\n",
    "k = 3\n",
    "\n",
    "create_moving_avg(seq, k)"
   ]
  }
 ],
 "metadata": {
  "kernelspec": {
   "display_name": "Python 3",
   "language": "python",
   "name": "python3"
  },
  "language_info": {
   "codemirror_mode": {
    "name": "ipython",
    "version": 3
   },
   "file_extension": ".py",
   "mimetype": "text/x-python",
   "name": "python",
   "nbconvert_exporter": "python",
   "pygments_lexer": "ipython3",
   "version": "3.7.4"
  }
 },
 "nbformat": 4,
 "nbformat_minor": 2
}
